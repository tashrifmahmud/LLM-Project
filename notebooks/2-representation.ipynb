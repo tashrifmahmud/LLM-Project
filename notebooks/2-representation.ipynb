{
  "cells": [
    {
      "cell_type": "code",
      "execution_count": 4,
      "metadata": {
        "collapsed": true,
        "id": "2zi53wUtaSMt",
        "outputId": "74c6e7d4-36e0-4a82-a39e-64aa40f17693",
        "colab": {
          "base_uri": "https://localhost:8080/"
        }
      },
      "outputs": [
        {
          "output_type": "stream",
          "name": "stdout",
          "text": [
            "Collecting datasets\n",
            "  Downloading datasets-3.1.0-py3-none-any.whl.metadata (20 kB)\n",
            "Requirement already satisfied: filelock in /usr/local/lib/python3.10/dist-packages (from datasets) (3.16.1)\n",
            "Requirement already satisfied: numpy>=1.17 in /usr/local/lib/python3.10/dist-packages (from datasets) (1.26.4)\n",
            "Requirement already satisfied: pyarrow>=15.0.0 in /usr/local/lib/python3.10/dist-packages (from datasets) (17.0.0)\n",
            "Collecting dill<0.3.9,>=0.3.0 (from datasets)\n",
            "  Downloading dill-0.3.8-py3-none-any.whl.metadata (10 kB)\n",
            "Requirement already satisfied: pandas in /usr/local/lib/python3.10/dist-packages (from datasets) (2.2.2)\n",
            "Requirement already satisfied: requests>=2.32.2 in /usr/local/lib/python3.10/dist-packages (from datasets) (2.32.3)\n",
            "Requirement already satisfied: tqdm>=4.66.3 in /usr/local/lib/python3.10/dist-packages (from datasets) (4.66.6)\n",
            "Collecting xxhash (from datasets)\n",
            "  Downloading xxhash-3.5.0-cp310-cp310-manylinux_2_17_x86_64.manylinux2014_x86_64.whl.metadata (12 kB)\n",
            "Collecting multiprocess<0.70.17 (from datasets)\n",
            "  Downloading multiprocess-0.70.16-py310-none-any.whl.metadata (7.2 kB)\n",
            "Collecting fsspec<=2024.9.0,>=2023.1.0 (from fsspec[http]<=2024.9.0,>=2023.1.0->datasets)\n",
            "  Downloading fsspec-2024.9.0-py3-none-any.whl.metadata (11 kB)\n",
            "Requirement already satisfied: aiohttp in /usr/local/lib/python3.10/dist-packages (from datasets) (3.11.2)\n",
            "Requirement already satisfied: huggingface-hub>=0.23.0 in /usr/local/lib/python3.10/dist-packages (from datasets) (0.26.2)\n",
            "Requirement already satisfied: packaging in /usr/local/lib/python3.10/dist-packages (from datasets) (24.2)\n",
            "Requirement already satisfied: pyyaml>=5.1 in /usr/local/lib/python3.10/dist-packages (from datasets) (6.0.2)\n",
            "Requirement already satisfied: aiohappyeyeballs>=2.3.0 in /usr/local/lib/python3.10/dist-packages (from aiohttp->datasets) (2.4.3)\n",
            "Requirement already satisfied: aiosignal>=1.1.2 in /usr/local/lib/python3.10/dist-packages (from aiohttp->datasets) (1.3.1)\n",
            "Requirement already satisfied: attrs>=17.3.0 in /usr/local/lib/python3.10/dist-packages (from aiohttp->datasets) (24.2.0)\n",
            "Requirement already satisfied: frozenlist>=1.1.1 in /usr/local/lib/python3.10/dist-packages (from aiohttp->datasets) (1.5.0)\n",
            "Requirement already satisfied: multidict<7.0,>=4.5 in /usr/local/lib/python3.10/dist-packages (from aiohttp->datasets) (6.1.0)\n",
            "Requirement already satisfied: propcache>=0.2.0 in /usr/local/lib/python3.10/dist-packages (from aiohttp->datasets) (0.2.0)\n",
            "Requirement already satisfied: yarl<2.0,>=1.17.0 in /usr/local/lib/python3.10/dist-packages (from aiohttp->datasets) (1.17.2)\n",
            "Requirement already satisfied: async-timeout<6.0,>=4.0 in /usr/local/lib/python3.10/dist-packages (from aiohttp->datasets) (4.0.3)\n",
            "Requirement already satisfied: typing-extensions>=3.7.4.3 in /usr/local/lib/python3.10/dist-packages (from huggingface-hub>=0.23.0->datasets) (4.12.2)\n",
            "Requirement already satisfied: charset-normalizer<4,>=2 in /usr/local/lib/python3.10/dist-packages (from requests>=2.32.2->datasets) (3.4.0)\n",
            "Requirement already satisfied: idna<4,>=2.5 in /usr/local/lib/python3.10/dist-packages (from requests>=2.32.2->datasets) (3.10)\n",
            "Requirement already satisfied: urllib3<3,>=1.21.1 in /usr/local/lib/python3.10/dist-packages (from requests>=2.32.2->datasets) (2.2.3)\n",
            "Requirement already satisfied: certifi>=2017.4.17 in /usr/local/lib/python3.10/dist-packages (from requests>=2.32.2->datasets) (2024.8.30)\n",
            "Requirement already satisfied: python-dateutil>=2.8.2 in /usr/local/lib/python3.10/dist-packages (from pandas->datasets) (2.8.2)\n",
            "Requirement already satisfied: pytz>=2020.1 in /usr/local/lib/python3.10/dist-packages (from pandas->datasets) (2024.2)\n",
            "Requirement already satisfied: tzdata>=2022.7 in /usr/local/lib/python3.10/dist-packages (from pandas->datasets) (2024.2)\n",
            "Requirement already satisfied: six>=1.5 in /usr/local/lib/python3.10/dist-packages (from python-dateutil>=2.8.2->pandas->datasets) (1.16.0)\n",
            "Downloading datasets-3.1.0-py3-none-any.whl (480 kB)\n",
            "\u001b[2K   \u001b[90m━━━━━━━━━━━━━━━━━━━━━━━━━━━━━━━━━━━━━━━━\u001b[0m \u001b[32m480.6/480.6 kB\u001b[0m \u001b[31m8.7 MB/s\u001b[0m eta \u001b[36m0:00:00\u001b[0m\n",
            "\u001b[?25hDownloading dill-0.3.8-py3-none-any.whl (116 kB)\n",
            "\u001b[2K   \u001b[90m━━━━━━━━━━━━━━━━━━━━━━━━━━━━━━━━━━━━━━━━\u001b[0m \u001b[32m116.3/116.3 kB\u001b[0m \u001b[31m9.1 MB/s\u001b[0m eta \u001b[36m0:00:00\u001b[0m\n",
            "\u001b[?25hDownloading fsspec-2024.9.0-py3-none-any.whl (179 kB)\n",
            "\u001b[2K   \u001b[90m━━━━━━━━━━━━━━━━━━━━━━━━━━━━━━━━━━━━━━━━\u001b[0m \u001b[32m179.3/179.3 kB\u001b[0m \u001b[31m14.9 MB/s\u001b[0m eta \u001b[36m0:00:00\u001b[0m\n",
            "\u001b[?25hDownloading multiprocess-0.70.16-py310-none-any.whl (134 kB)\n",
            "\u001b[2K   \u001b[90m━━━━━━━━━━━━━━━━━━━━━━━━━━━━━━━━━━━━━━━━\u001b[0m \u001b[32m134.8/134.8 kB\u001b[0m \u001b[31m11.4 MB/s\u001b[0m eta \u001b[36m0:00:00\u001b[0m\n",
            "\u001b[?25hDownloading xxhash-3.5.0-cp310-cp310-manylinux_2_17_x86_64.manylinux2014_x86_64.whl (194 kB)\n",
            "\u001b[2K   \u001b[90m━━━━━━━━━━━━━━━━━━━━━━━━━━━━━━━━━━━━━━━━\u001b[0m \u001b[32m194.1/194.1 kB\u001b[0m \u001b[31m15.5 MB/s\u001b[0m eta \u001b[36m0:00:00\u001b[0m\n",
            "\u001b[?25hInstalling collected packages: xxhash, fsspec, dill, multiprocess, datasets\n",
            "  Attempting uninstall: fsspec\n",
            "    Found existing installation: fsspec 2024.10.0\n",
            "    Uninstalling fsspec-2024.10.0:\n",
            "      Successfully uninstalled fsspec-2024.10.0\n",
            "\u001b[31mERROR: pip's dependency resolver does not currently take into account all the packages that are installed. This behaviour is the source of the following dependency conflicts.\n",
            "gcsfs 2024.10.0 requires fsspec==2024.10.0, but you have fsspec 2024.9.0 which is incompatible.\u001b[0m\u001b[31m\n",
            "\u001b[0mSuccessfully installed datasets-3.1.0 dill-0.3.8 fsspec-2024.9.0 multiprocess-0.70.16 xxhash-3.5.0\n"
          ]
        }
      ],
      "source": [
        "!pip install datasets\n",
        "import datasets"
      ]
    },
    {
      "cell_type": "code",
      "source": [
        "from google.colab import drive\n",
        "drive.mount('/content/drive')"
      ],
      "metadata": {
        "id": "HakgHZ8BaaBm",
        "outputId": "e007ef56-026e-433c-d828-b9bc379b4218",
        "colab": {
          "base_uri": "https://localhost:8080/"
        }
      },
      "execution_count": 1,
      "outputs": [
        {
          "output_type": "stream",
          "name": "stdout",
          "text": [
            "Mounted at /content/drive\n"
          ]
        }
      ]
    },
    {
      "cell_type": "code",
      "source": [
        "import pickle\n",
        "\n",
        "# File path\n",
        "file_path = '/content/drive/MyDrive/1_Data/ds_clean.pkl'\n",
        "\n",
        "# Load the dataset\n",
        "with open(file_path, 'rb') as f:\n",
        "    ds_clean = pickle.load(f)\n",
        "\n",
        "# Check the dataset\n",
        "print(ds_clean)"
      ],
      "metadata": {
        "id": "ifmorJ2babMu",
        "outputId": "2b1f4753-46c3-451a-a30e-07d1e064546e",
        "colab": {
          "base_uri": "https://localhost:8080/"
        }
      },
      "execution_count": 5,
      "outputs": [
        {
          "output_type": "stream",
          "name": "stdout",
          "text": [
            "DatasetDict({\n",
            "    train: Dataset({\n",
            "        features: ['document', 'summary'],\n",
            "        num_rows: 44972\n",
            "    })\n",
            "    test: Dataset({\n",
            "        features: ['document', 'summary'],\n",
            "        num_rows: 5622\n",
            "    })\n",
            "    validation: Dataset({\n",
            "        features: ['document', 'summary'],\n",
            "        num_rows: 5622\n",
            "    })\n",
            "})\n"
          ]
        }
      ]
    },
    {
      "cell_type": "markdown",
      "source": [
        "Now we will use TfidVectorizer"
      ],
      "metadata": {
        "id": "ALSKz8dXfD_Q"
      }
    },
    {
      "cell_type": "code",
      "source": [
        "from sklearn.feature_extraction.text import TfidfVectorizer\n",
        "\n",
        "# Accessing the columns\n",
        "train_texts = ds_clean['train']['document']\n",
        "\n",
        "# TF-IDF on the training data\n",
        "tfidf_vectorizer = TfidfVectorizer(max_features=5000)\n",
        "X_train_tfidf = tfidf_vectorizer.fit_transform(train_texts)\n",
        "\n",
        "# Applying to validation and test sets\n",
        "val_texts = ds_clean['validation']['document']\n",
        "X_val_tfidf = tfidf_vectorizer.transform(val_texts)\n",
        "\n",
        "test_texts = ds_clean['test']['document']\n",
        "X_test_tfidf = tfidf_vectorizer.transform(test_texts)"
      ],
      "metadata": {
        "id": "hKIUTUC4bM9g"
      },
      "execution_count": 8,
      "outputs": []
    },
    {
      "cell_type": "code",
      "source": [
        "print(tfidf_vectorizer.get_feature_names_out())"
      ],
      "metadata": {
        "id": "cu_qIQYRdbJm",
        "outputId": "b97bd70f-32ff-4368-cd9e-1a20cf659632",
        "colab": {
          "base_uri": "https://localhost:8080/"
        }
      },
      "execution_count": 9,
      "outputs": [
        {
          "output_type": "stream",
          "name": "stdout",
          "text": [
            "['10' '100' '1000' ... 'zone' 'zoo' 'zuckerberg']\n"
          ]
        }
      ]
    },
    {
      "cell_type": "code",
      "source": [
        "dense_matrix = X_train_tfidf.todense()\n",
        "print(dense_matrix[:5])"
      ],
      "metadata": {
        "id": "AXmgfbolfuS-",
        "outputId": "d44fe0a7-f2ef-42ff-f998-f35e7ccafc0b",
        "colab": {
          "base_uri": "https://localhost:8080/"
        }
      },
      "execution_count": 10,
      "outputs": [
        {
          "output_type": "stream",
          "name": "stdout",
          "text": [
            "[[0.         0.         0.         ... 0.         0.         0.        ]\n",
            " [0.         0.         0.         ... 0.         0.         0.        ]\n",
            " [0.         0.03918711 0.         ... 0.         0.         0.        ]\n",
            " [0.         0.         0.         ... 0.         0.         0.        ]\n",
            " [0.         0.         0.         ... 0.         0.         0.        ]]\n"
          ]
        }
      ]
    },
    {
      "cell_type": "code",
      "source": [
        "feature_names = tfidf_vectorizer.get_feature_names_out()\n",
        "first_row = dense_matrix[0]\n",
        "print(\"Tokenized Words and Their TF-IDF Scores:\")\n",
        "for idx, score in enumerate(first_row.tolist()[0]):\n",
        "    if score > 0:\n",
        "        print(f\"{feature_names[idx]}: {score}\")\n"
      ],
      "metadata": {
        "collapsed": true,
        "id": "t88f0qU_fy9t",
        "outputId": "f6cb0050-d403-4cc7-b104-5522728d39c5",
        "colab": {
          "base_uri": "https://localhost:8080/"
        }
      },
      "execution_count": 11,
      "outputs": [
        {
          "output_type": "stream",
          "name": "stdout",
          "text": [
            "Tokenized Words and Their TF-IDF Scores:\n",
            "2009: 0.05269408097296444\n",
            "according: 0.026422745823109262\n",
            "added: 0.10249371727040586\n",
            "after: 0.019789281083892194\n",
            "again: 0.0364517024019076\n",
            "all: 0.02085176860074119\n",
            "am: 0.037602204729206744\n",
            "americans: 0.0496715036670486\n",
            "and: 0.050732117939452086\n",
            "are: 0.03735913615107948\n",
            "at: 0.05281387435089893\n",
            "back: 0.027355235018514987\n",
            "be: 0.05441881003582824\n",
            "because: 0.04924173944560003\n",
            "before: 0.024561000567680995\n",
            "ben: 0.06747354724505507\n",
            "best: 0.03834767757957508\n",
            "but: 0.03654311324662927\n",
            "by: 0.017880743859797505\n",
            "chairman: 0.05583021997113871\n",
            "color: 0.07078954435808603\n",
            "comments: 0.04913504240593295\n",
            "compared: 0.05542737573024871\n",
            "consumer: 0.07103871224209025\n",
            "continue: 0.039788521531848094\n",
            "created: 0.046723928000837404\n",
            "current: 0.045872169385360435\n",
            "data: 0.04615488443721107\n",
            "december: 0.051029781089627725\n",
            "department: 0.03850783779676591\n",
            "don: 0.03843901147618452\n",
            "down: 0.028744608056027562\n",
            "dropped: 0.05728814881555412\n",
            "during: 0.02660743773917064\n",
            "each: 0.03579311957601946\n",
            "economy: 0.23794935858718647\n",
            "employers: 0.08555112377270366\n",
            "employment: 0.07746722946012828\n",
            "enjoy: 0.06830661439895651\n",
            "enough: 0.03955381600624304\n",
            "expectations: 0.07512073812933487\n",
            "expected: 0.04261533445193334\n",
            "fast: 0.060676989247505274\n",
            "february: 0.051725590902127805\n",
            "federal: 0.04313381755800477\n",
            "feel: 0.04397258056779223\n",
            "fell: 0.05452320072294902\n",
            "fewer: 0.0667516380137883\n",
            "first: 0.023858097559578895\n",
            "folks: 0.07023979871759195\n",
            "follow: 0.043071673396950165\n",
            "for: 0.08568729350536289\n",
            "four: 0.0352761148323961\n",
            "free: 0.04545882609166464\n",
            "fresh: 0.06467149168900539\n",
            "friday: 0.03999992511942507\n",
            "from: 0.017659566932045647\n",
            "growing: 0.05148753320600109\n",
            "growth: 0.06270600465459979\n",
            "has: 0.03653251726539917\n",
            "here: 0.06418853146940924\n",
            "hiring: 0.24199164497152237\n",
            "hits: 0.07220289079420084\n",
            "hold: 0.047203807928866234\n",
            "how: 0.026042513404625038\n",
            "important: 0.04082335301745572\n",
            "in: 0.06770451938281749\n",
            "includes: 0.051589985835263856\n",
            "interests: 0.06510409661309867\n",
            "is: 0.03454813079725244\n",
            "it: 0.035423856393955976\n",
            "january: 0.09619756776748087\n",
            "job: 0.0452015136891636\n",
            "jobs: 0.3494693325184255\n",
            "jones: 0.06713821921754894\n",
            "labor: 0.06977627307075568\n",
            "last: 0.024310794807571413\n",
            "ll: 0.05122977881428388\n",
            "looking: 0.04062749240621915\n",
            "lowest: 0.07663099428696481\n",
            "main: 0.04764652508790218\n",
            "march: 0.044090770551320296\n",
            "may: 0.02664555725218133\n",
            "moment: 0.04865947840565083\n",
            "month: 0.11198664198608722\n",
            "months: 0.07204760797598332\n",
            "more: 0.05892162305438056\n",
            "most: 0.026014112685164528\n",
            "mostly: 0.055055544436694276\n",
            "national: 0.03421168138660197\n",
            "new: 0.04663488652774638\n",
            "not: 0.018475773077581158\n",
            "of: 0.08461747752251128\n",
            "offering: 0.12224092213987459\n",
            "official: 0.04206883243916288\n",
            "on: 0.08532981128405381\n",
            "one: 0.059785646006993695\n",
            "only: 0.02505331836794268\n",
            "pace: 0.07508525147860798\n",
            "people: 0.022490446663260576\n",
            "percent: 0.042992108589914244\n",
            "previous: 0.0946849653926896\n",
            "pulled: 0.05650411028646669\n",
            "rate: 0.23171953179667854\n",
            "re: 0.0399468254022447\n",
            "reserve: 0.07888603925223306\n",
            "says: 0.028988995526990524\n",
            "searched: 0.07427773394464232\n",
            "section: 0.06321283554268456\n",
            "seeking: 0.05226389324095283\n",
            "show: 0.0340790661541975\n",
            "sign: 0.04478053798434919\n",
            "since: 0.05536619832186421\n",
            "situation: 0.04662519222350233\n",
            "spending: 0.057938435354928715\n",
            "stopped: 0.05347025027246809\n",
            "street: 0.09205119631806191\n",
            "than: 0.02261811066799087\n",
            "that: 0.05149132679932241\n",
            "the: 0.4220444313506948\n",
            "thing: 0.039325168927816914\n",
            "those: 0.027138766624276372\n",
            "three: 0.029491822217923933\n",
            "time: 0.0445347914376024\n",
            "to: 0.15200695790298746\n",
            "twitter: 0.03780852117633491\n",
            "two: 0.023034006596999546\n",
            "unemployment: 0.3284208476956547\n",
            "unlikely: 0.06181100890650882\n",
            "up: 0.02099629453760047\n",
            "update: 0.05762484814836823\n",
            "us: 0.07266723006659662\n",
            "via: 0.0455365861196059\n",
            "wall: 0.053701584239253336\n",
            "washington: 0.03949062857641671\n",
            "we: 0.021030340120422913\n",
            "when: 0.02002776472254552\n",
            "while: 0.02466844205823309\n",
            "why: 0.034830937251480815\n",
            "without: 0.033986748311388204\n",
            "work: 0.0629645064195929\n",
            "years: 0.024832401203451055\n",
            "yes: 0.05377160742446198\n",
            "york: 0.03879011004751422\n",
            "you: 0.04662939023412291\n",
            "yourself: 0.06727899018890776\n"
          ]
        }
      ]
    },
    {
      "cell_type": "markdown",
      "source": [
        "First we will try logistic regression model on our dataset."
      ],
      "metadata": {
        "id": "AVpU5J4CghhH"
      }
    }
  ],
  "metadata": {
    "language_info": {
      "name": "python"
    },
    "orig_nbformat": 4,
    "colab": {
      "provenance": [],
      "machine_shape": "hm",
      "gpuType": "T4"
    },
    "kernelspec": {
      "name": "python3",
      "display_name": "Python 3"
    },
    "accelerator": "GPU"
  },
  "nbformat": 4,
  "nbformat_minor": 0
}